{
 "cells": [
  {
   "cell_type": "markdown",
   "id": "68d5affd",
   "metadata": {},
   "source": [
    "## Titanic DataSet"
   ]
  },
  {
   "cell_type": "markdown",
   "id": "13962099",
   "metadata": {},
   "source": [
    "#         Developer: Krishna Agrawal"
   ]
  },
  {
   "cell_type": "markdown",
   "id": "c014f311-2159-4b24-be0a-a4c2d2734c98",
   "metadata": {},
   "source": [
    "## Part I: Exploratory analysis\n",
    "\n",
    "Reading the dataset "
   ]
  },
  {
   "cell_type": "code",
   "execution_count": 1,
   "id": "05e90c97-716a-49d2-9470-886fb62d214e",
   "metadata": {},
   "outputs": [
    {
     "data": {
      "text/html": [
       "<div>\n",
       "<style scoped>\n",
       "    .dataframe tbody tr th:only-of-type {\n",
       "        vertical-align: middle;\n",
       "    }\n",
       "\n",
       "    .dataframe tbody tr th {\n",
       "        vertical-align: top;\n",
       "    }\n",
       "\n",
       "    .dataframe thead th {\n",
       "        text-align: right;\n",
       "    }\n",
       "</style>\n",
       "<table border=\"1\" class=\"dataframe\">\n",
       "  <thead>\n",
       "    <tr style=\"text-align: right;\">\n",
       "      <th></th>\n",
       "      <th>Survived</th>\n",
       "      <th>Pclass</th>\n",
       "      <th>Name</th>\n",
       "      <th>Sex</th>\n",
       "      <th>Age</th>\n",
       "      <th>SibSp</th>\n",
       "      <th>Parch</th>\n",
       "      <th>Ticket</th>\n",
       "      <th>Fare</th>\n",
       "      <th>Cabin</th>\n",
       "      <th>Embarked</th>\n",
       "    </tr>\n",
       "    <tr>\n",
       "      <th>PassengerId</th>\n",
       "      <th></th>\n",
       "      <th></th>\n",
       "      <th></th>\n",
       "      <th></th>\n",
       "      <th></th>\n",
       "      <th></th>\n",
       "      <th></th>\n",
       "      <th></th>\n",
       "      <th></th>\n",
       "      <th></th>\n",
       "      <th></th>\n",
       "    </tr>\n",
       "  </thead>\n",
       "  <tbody>\n",
       "    <tr>\n",
       "      <th>1</th>\n",
       "      <td>0</td>\n",
       "      <td>3</td>\n",
       "      <td>Braund, Mr. Owen Harris</td>\n",
       "      <td>male</td>\n",
       "      <td>22.0</td>\n",
       "      <td>1</td>\n",
       "      <td>0</td>\n",
       "      <td>A/5 21171</td>\n",
       "      <td>7.2500</td>\n",
       "      <td>NaN</td>\n",
       "      <td>S</td>\n",
       "    </tr>\n",
       "    <tr>\n",
       "      <th>2</th>\n",
       "      <td>1</td>\n",
       "      <td>1</td>\n",
       "      <td>Cumings, Mrs. John Bradley (Florence Briggs Th...</td>\n",
       "      <td>female</td>\n",
       "      <td>38.0</td>\n",
       "      <td>1</td>\n",
       "      <td>0</td>\n",
       "      <td>PC 17599</td>\n",
       "      <td>71.2833</td>\n",
       "      <td>C85</td>\n",
       "      <td>C</td>\n",
       "    </tr>\n",
       "    <tr>\n",
       "      <th>3</th>\n",
       "      <td>1</td>\n",
       "      <td>3</td>\n",
       "      <td>Heikkinen, Miss. Laina</td>\n",
       "      <td>female</td>\n",
       "      <td>26.0</td>\n",
       "      <td>0</td>\n",
       "      <td>0</td>\n",
       "      <td>STON/O2. 3101282</td>\n",
       "      <td>7.9250</td>\n",
       "      <td>NaN</td>\n",
       "      <td>S</td>\n",
       "    </tr>\n",
       "    <tr>\n",
       "      <th>4</th>\n",
       "      <td>1</td>\n",
       "      <td>1</td>\n",
       "      <td>Futrelle, Mrs. Jacques Heath (Lily May Peel)</td>\n",
       "      <td>female</td>\n",
       "      <td>35.0</td>\n",
       "      <td>1</td>\n",
       "      <td>0</td>\n",
       "      <td>113803</td>\n",
       "      <td>53.1000</td>\n",
       "      <td>C123</td>\n",
       "      <td>S</td>\n",
       "    </tr>\n",
       "    <tr>\n",
       "      <th>5</th>\n",
       "      <td>0</td>\n",
       "      <td>3</td>\n",
       "      <td>Allen, Mr. William Henry</td>\n",
       "      <td>male</td>\n",
       "      <td>35.0</td>\n",
       "      <td>0</td>\n",
       "      <td>0</td>\n",
       "      <td>373450</td>\n",
       "      <td>8.0500</td>\n",
       "      <td>NaN</td>\n",
       "      <td>S</td>\n",
       "    </tr>\n",
       "  </tbody>\n",
       "</table>\n",
       "</div>"
      ],
      "text/plain": [
       "             Survived  Pclass  \\\n",
       "PassengerId                     \n",
       "1                   0       3   \n",
       "2                   1       1   \n",
       "3                   1       3   \n",
       "4                   1       1   \n",
       "5                   0       3   \n",
       "\n",
       "                                                          Name     Sex   Age  \\\n",
       "PassengerId                                                                    \n",
       "1                                      Braund, Mr. Owen Harris    male  22.0   \n",
       "2            Cumings, Mrs. John Bradley (Florence Briggs Th...  female  38.0   \n",
       "3                                       Heikkinen, Miss. Laina  female  26.0   \n",
       "4                 Futrelle, Mrs. Jacques Heath (Lily May Peel)  female  35.0   \n",
       "5                                     Allen, Mr. William Henry    male  35.0   \n",
       "\n",
       "             SibSp  Parch            Ticket     Fare Cabin Embarked  \n",
       "PassengerId                                                          \n",
       "1                1      0         A/5 21171   7.2500   NaN        S  \n",
       "2                1      0          PC 17599  71.2833   C85        C  \n",
       "3                0      0  STON/O2. 3101282   7.9250   NaN        S  \n",
       "4                1      0            113803  53.1000  C123        S  \n",
       "5                0      0            373450   8.0500   NaN        S  "
      ]
     },
     "execution_count": 1,
     "metadata": {},
     "output_type": "execute_result"
    }
   ],
   "source": [
    "#Importing desired database\n",
    "\n",
    "import pandas as pd\n",
    "\n",
    "titanic = pd.read_csv(\"Titanic.csv\")\n",
    "titanic.set_index(\"PassengerId\", inplace=True)\n",
    "titanic.head()"
   ]
  },
  {
   "cell_type": "code",
   "execution_count": 2,
   "id": "d8cde50e",
   "metadata": {},
   "outputs": [
    {
     "name": "stdout",
     "output_type": "stream",
     "text": [
      "<class 'pandas.core.frame.DataFrame'>\n",
      "Int64Index: 891 entries, 1 to 891\n",
      "Data columns (total 11 columns):\n",
      " #   Column    Non-Null Count  Dtype  \n",
      "---  ------    --------------  -----  \n",
      " 0   Survived  891 non-null    int64  \n",
      " 1   Pclass    891 non-null    int64  \n",
      " 2   Name      891 non-null    object \n",
      " 3   Sex       891 non-null    object \n",
      " 4   Age       714 non-null    float64\n",
      " 5   SibSp     891 non-null    int64  \n",
      " 6   Parch     891 non-null    int64  \n",
      " 7   Ticket    891 non-null    object \n",
      " 8   Fare      891 non-null    float64\n",
      " 9   Cabin     204 non-null    object \n",
      " 10  Embarked  889 non-null    object \n",
      "dtypes: float64(2), int64(4), object(5)\n",
      "memory usage: 83.5+ KB\n"
     ]
    }
   ],
   "source": [
    "#Getting additional info like columns, datatype\n",
    "titanic.info()"
   ]
  },
  {
   "cell_type": "code",
   "execution_count": 44,
   "id": "369c5e21",
   "metadata": {
    "scrolled": true
   },
   "outputs": [
    {
     "data": {
      "text/html": [
       "<div>\n",
       "<style scoped>\n",
       "    .dataframe tbody tr th:only-of-type {\n",
       "        vertical-align: middle;\n",
       "    }\n",
       "\n",
       "    .dataframe tbody tr th {\n",
       "        vertical-align: top;\n",
       "    }\n",
       "\n",
       "    .dataframe thead th {\n",
       "        text-align: right;\n",
       "    }\n",
       "</style>\n",
       "<table border=\"1\" class=\"dataframe\">\n",
       "  <thead>\n",
       "    <tr style=\"text-align: right;\">\n",
       "      <th></th>\n",
       "      <th>Survived</th>\n",
       "      <th>Pclass</th>\n",
       "      <th>Age</th>\n",
       "      <th>SibSp</th>\n",
       "      <th>Parch</th>\n",
       "      <th>Fare</th>\n",
       "    </tr>\n",
       "  </thead>\n",
       "  <tbody>\n",
       "    <tr>\n",
       "      <th>count</th>\n",
       "      <td>891.000000</td>\n",
       "      <td>891.000000</td>\n",
       "      <td>714.000000</td>\n",
       "      <td>891.000000</td>\n",
       "      <td>891.000000</td>\n",
       "      <td>891.000000</td>\n",
       "    </tr>\n",
       "    <tr>\n",
       "      <th>mean</th>\n",
       "      <td>0.383838</td>\n",
       "      <td>2.308642</td>\n",
       "      <td>29.699118</td>\n",
       "      <td>0.523008</td>\n",
       "      <td>0.381594</td>\n",
       "      <td>32.204208</td>\n",
       "    </tr>\n",
       "    <tr>\n",
       "      <th>std</th>\n",
       "      <td>0.486592</td>\n",
       "      <td>0.836071</td>\n",
       "      <td>14.526497</td>\n",
       "      <td>1.102743</td>\n",
       "      <td>0.806057</td>\n",
       "      <td>49.693429</td>\n",
       "    </tr>\n",
       "    <tr>\n",
       "      <th>min</th>\n",
       "      <td>0.000000</td>\n",
       "      <td>1.000000</td>\n",
       "      <td>0.420000</td>\n",
       "      <td>0.000000</td>\n",
       "      <td>0.000000</td>\n",
       "      <td>0.000000</td>\n",
       "    </tr>\n",
       "    <tr>\n",
       "      <th>25%</th>\n",
       "      <td>0.000000</td>\n",
       "      <td>2.000000</td>\n",
       "      <td>20.125000</td>\n",
       "      <td>0.000000</td>\n",
       "      <td>0.000000</td>\n",
       "      <td>7.910400</td>\n",
       "    </tr>\n",
       "    <tr>\n",
       "      <th>50%</th>\n",
       "      <td>0.000000</td>\n",
       "      <td>3.000000</td>\n",
       "      <td>28.000000</td>\n",
       "      <td>0.000000</td>\n",
       "      <td>0.000000</td>\n",
       "      <td>14.454200</td>\n",
       "    </tr>\n",
       "    <tr>\n",
       "      <th>75%</th>\n",
       "      <td>1.000000</td>\n",
       "      <td>3.000000</td>\n",
       "      <td>38.000000</td>\n",
       "      <td>1.000000</td>\n",
       "      <td>0.000000</td>\n",
       "      <td>31.000000</td>\n",
       "    </tr>\n",
       "    <tr>\n",
       "      <th>max</th>\n",
       "      <td>1.000000</td>\n",
       "      <td>3.000000</td>\n",
       "      <td>80.000000</td>\n",
       "      <td>8.000000</td>\n",
       "      <td>6.000000</td>\n",
       "      <td>512.329200</td>\n",
       "    </tr>\n",
       "  </tbody>\n",
       "</table>\n",
       "</div>"
      ],
      "text/plain": [
       "         Survived      Pclass         Age       SibSp       Parch        Fare\n",
       "count  891.000000  891.000000  714.000000  891.000000  891.000000  891.000000\n",
       "mean     0.383838    2.308642   29.699118    0.523008    0.381594   32.204208\n",
       "std      0.486592    0.836071   14.526497    1.102743    0.806057   49.693429\n",
       "min      0.000000    1.000000    0.420000    0.000000    0.000000    0.000000\n",
       "25%      0.000000    2.000000   20.125000    0.000000    0.000000    7.910400\n",
       "50%      0.000000    3.000000   28.000000    0.000000    0.000000   14.454200\n",
       "75%      1.000000    3.000000   38.000000    1.000000    0.000000   31.000000\n",
       "max      1.000000    3.000000   80.000000    8.000000    6.000000  512.329200"
      ]
     },
     "execution_count": 44,
     "metadata": {},
     "output_type": "execute_result"
    }
   ],
   "source": [
    "#Exploratory analysis to better understand our data\n",
    "titanic.describe()"
   ]
  },
  {
   "cell_type": "code",
   "execution_count": 24,
   "id": "e6db3994",
   "metadata": {},
   "outputs": [
    {
     "name": "stdout",
     "output_type": "stream",
     "text": [
      "Null values in Survived column are 0\n",
      "Null values in Pclass column are 0\n",
      "Null values in Name column are 0\n",
      "Null values in Sex column are 0\n",
      "Null values in Age column are 177\n",
      "Null values in SibSp column are 0\n",
      "Null values in Parch column are 0\n",
      "Null values in Ticket column are 0\n",
      "Null values in Fare column are 0\n",
      "Null values in Cabin column are 687\n",
      "Null values in Embarked column are 2\n"
     ]
    }
   ],
   "source": [
    "#Finding number of nulls in the tables per column\n",
    "\n",
    "column_names = titanic.columns.tolist()\n",
    "\n",
    "for column in column_names:\n",
    "    print (\"Null values in {0} column are {1}\".format(column, titanic[column].isnull().sum()))"
   ]
  },
  {
   "cell_type": "code",
   "execution_count": 26,
   "id": "c1dd5710",
   "metadata": {},
   "outputs": [
    {
     "data": {
      "text/html": [
       "<div>\n",
       "<style scoped>\n",
       "    .dataframe tbody tr th:only-of-type {\n",
       "        vertical-align: middle;\n",
       "    }\n",
       "\n",
       "    .dataframe tbody tr th {\n",
       "        vertical-align: top;\n",
       "    }\n",
       "\n",
       "    .dataframe thead th {\n",
       "        text-align: right;\n",
       "    }\n",
       "</style>\n",
       "<table border=\"1\" class=\"dataframe\">\n",
       "  <thead>\n",
       "    <tr style=\"text-align: right;\">\n",
       "      <th></th>\n",
       "      <th>Not survived</th>\n",
       "      <th>Survived</th>\n",
       "    </tr>\n",
       "    <tr>\n",
       "      <th>Sex</th>\n",
       "      <th></th>\n",
       "      <th></th>\n",
       "    </tr>\n",
       "  </thead>\n",
       "  <tbody>\n",
       "    <tr>\n",
       "      <th>female</th>\n",
       "      <td>0.090909</td>\n",
       "      <td>0.261504</td>\n",
       "    </tr>\n",
       "    <tr>\n",
       "      <th>male</th>\n",
       "      <td>0.525253</td>\n",
       "      <td>0.122334</td>\n",
       "    </tr>\n",
       "  </tbody>\n",
       "</table>\n",
       "</div>"
      ],
      "text/plain": [
       "        Not survived  Survived\n",
       "Sex                           \n",
       "female      0.090909  0.261504\n",
       "male        0.525253  0.122334"
      ]
     },
     "execution_count": 26,
     "metadata": {},
     "output_type": "execute_result"
    }
   ],
   "source": [
    "#Identifying survival rate by Sex\n",
    "\n",
    "probability_table = pd.pivot_table(\n",
    "    data = titanic,\n",
    "    values = \"Name\",\n",
    "    index = \"Sex\",\n",
    "    columns = \"Survived\",\n",
    "    aggfunc = \"count\"   \n",
    ") / len(titanic)\n",
    "\n",
    "probability_table.columns = [\"Survived\" if colname == 1 else \"Not survived\" for colname in probability_table.columns ]\n",
    "\n",
    "probability_table\n",
    "\n",
    "#As from the below table, it is clear that female have high survival than male"
   ]
  },
  {
   "cell_type": "code",
   "execution_count": 27,
   "id": "f9fe709b",
   "metadata": {},
   "outputs": [
    {
     "data": {
      "text/html": [
       "<div>\n",
       "<style scoped>\n",
       "    .dataframe tbody tr th:only-of-type {\n",
       "        vertical-align: middle;\n",
       "    }\n",
       "\n",
       "    .dataframe tbody tr th {\n",
       "        vertical-align: top;\n",
       "    }\n",
       "\n",
       "    .dataframe thead th {\n",
       "        text-align: right;\n",
       "    }\n",
       "</style>\n",
       "<table border=\"1\" class=\"dataframe\">\n",
       "  <thead>\n",
       "    <tr style=\"text-align: right;\">\n",
       "      <th></th>\n",
       "      <th>Not survived</th>\n",
       "      <th>Survived</th>\n",
       "    </tr>\n",
       "    <tr>\n",
       "      <th>Pclass</th>\n",
       "      <th></th>\n",
       "      <th></th>\n",
       "    </tr>\n",
       "  </thead>\n",
       "  <tbody>\n",
       "    <tr>\n",
       "      <th>1</th>\n",
       "      <td>0.089787</td>\n",
       "      <td>0.152637</td>\n",
       "    </tr>\n",
       "    <tr>\n",
       "      <th>2</th>\n",
       "      <td>0.108866</td>\n",
       "      <td>0.097643</td>\n",
       "    </tr>\n",
       "    <tr>\n",
       "      <th>3</th>\n",
       "      <td>0.417508</td>\n",
       "      <td>0.133558</td>\n",
       "    </tr>\n",
       "  </tbody>\n",
       "</table>\n",
       "</div>"
      ],
      "text/plain": [
       "        Not survived  Survived\n",
       "Pclass                        \n",
       "1           0.089787  0.152637\n",
       "2           0.108866  0.097643\n",
       "3           0.417508  0.133558"
      ]
     },
     "execution_count": 27,
     "metadata": {},
     "output_type": "execute_result"
    }
   ],
   "source": [
    "#Identifying survival rate by Pclass\n",
    "\n",
    "probability_table = pd.pivot_table(\n",
    "    data = titanic,\n",
    "    values = \"Name\",\n",
    "    index = \"Pclass\",\n",
    "    columns = \"Survived\",\n",
    "    aggfunc = \"count\"   \n",
    ") / len(titanic)\n",
    "\n",
    "probability_table.columns = [\"Survived\" if colname == 1 else \"Not survived\" for colname in probability_table.columns ]\n",
    "\n",
    "probability_table\n",
    "\n",
    "#As from the below table, it is clear that Pclass1 have high survival than other classes"
   ]
  },
  {
   "cell_type": "code",
   "execution_count": 41,
   "id": "0931cb33",
   "metadata": {},
   "outputs": [
    {
     "data": {
      "text/html": [
       "<div>\n",
       "<style scoped>\n",
       "    .dataframe tbody tr th:only-of-type {\n",
       "        vertical-align: middle;\n",
       "    }\n",
       "\n",
       "    .dataframe tbody tr th {\n",
       "        vertical-align: top;\n",
       "    }\n",
       "\n",
       "    .dataframe thead th {\n",
       "        text-align: right;\n",
       "    }\n",
       "</style>\n",
       "<table border=\"1\" class=\"dataframe\">\n",
       "  <thead>\n",
       "    <tr style=\"text-align: right;\">\n",
       "      <th></th>\n",
       "      <th></th>\n",
       "      <th>Not survived</th>\n",
       "      <th>Survived</th>\n",
       "    </tr>\n",
       "    <tr>\n",
       "      <th>Sex</th>\n",
       "      <th>Pclass</th>\n",
       "      <th></th>\n",
       "      <th></th>\n",
       "    </tr>\n",
       "  </thead>\n",
       "  <tbody>\n",
       "    <tr>\n",
       "      <th rowspan=\"3\" valign=\"top\">female</th>\n",
       "      <th>1</th>\n",
       "      <td>0.003367</td>\n",
       "      <td>0.102132</td>\n",
       "    </tr>\n",
       "    <tr>\n",
       "      <th>2</th>\n",
       "      <td>0.006734</td>\n",
       "      <td>0.078563</td>\n",
       "    </tr>\n",
       "    <tr>\n",
       "      <th>3</th>\n",
       "      <td>0.080808</td>\n",
       "      <td>0.080808</td>\n",
       "    </tr>\n",
       "    <tr>\n",
       "      <th rowspan=\"3\" valign=\"top\">male</th>\n",
       "      <th>1</th>\n",
       "      <td>0.086420</td>\n",
       "      <td>0.050505</td>\n",
       "    </tr>\n",
       "    <tr>\n",
       "      <th>2</th>\n",
       "      <td>0.102132</td>\n",
       "      <td>0.019080</td>\n",
       "    </tr>\n",
       "    <tr>\n",
       "      <th>3</th>\n",
       "      <td>0.336700</td>\n",
       "      <td>0.052750</td>\n",
       "    </tr>\n",
       "  </tbody>\n",
       "</table>\n",
       "</div>"
      ],
      "text/plain": [
       "               Not survived  Survived\n",
       "Sex    Pclass                        \n",
       "female 1           0.003367  0.102132\n",
       "       2           0.006734  0.078563\n",
       "       3           0.080808  0.080808\n",
       "male   1           0.086420  0.050505\n",
       "       2           0.102132  0.019080\n",
       "       3           0.336700  0.052750"
      ]
     },
     "execution_count": 41,
     "metadata": {},
     "output_type": "execute_result"
    }
   ],
   "source": [
    "#Multi-diamentional Pivot table to analyse correlation between Pclass, Age with respect to survival rate\n",
    "\n",
    "prob_survival_notsurvival = pd.pivot_table(\n",
    "    data = titanic,\n",
    "    values = \"Name\",\n",
    "    index = [\"Sex\",\"Pclass\"],\n",
    "    columns = \"Survived\",\n",
    "    aggfunc = \"count\"   \n",
    ") / len(titanic)\n",
    "\n",
    "prob_survival_notsurvival.columns = [\"Survived\" if colname == 1 else \"Not survived\" for colname in prob_survival_notsurvival.columns ]\n",
    "\n",
    "prob_survival_notsurvival"
   ]
  },
  {
   "cell_type": "code",
   "execution_count": 43,
   "id": "3135f6df",
   "metadata": {},
   "outputs": [
    {
     "data": {
      "text/plain": [
       "<seaborn.axisgrid.FacetGrid at 0x1962a742d30>"
      ]
     },
     "execution_count": 43,
     "metadata": {},
     "output_type": "execute_result"
    },
    {
     "data": {
      "image/png": "[encoded data removed]",
      "text/plain": [
       "<Figure size 432x216 with 2 Axes>"
      ]
     },
     "metadata": {
      "needs_background": "light"
     },
     "output_type": "display_data"
    }
   ],
   "source": [
    "#Now let us look if there is any correlation in the likelyhood of survival with the age range\n",
    "\n",
    "import seaborn as sns\n",
    "import matplotlib.pyplot as plt\n",
    "\n",
    "graph = sns.FacetGrid(titanic, col='Survived')\n",
    "graph.map(plt.hist, 'Age', bins=20)\n",
    "\n",
    "\n",
    "#Observations based on below graph\n",
    "#1) Infants in the age range 0 - 5 years have high survival rate.\n",
    "#2) Passengers in the range 20-40 have low survival rate.\n",
    "#3) All the Passengers in the age group 75 above have survived.\n",
    "#4) Most passengers are in the age range 20 to 40."
   ]
  },
  {
   "cell_type": "code",
   "execution_count": 37,
   "id": "bbf55427",
   "metadata": {},
   "outputs": [
    {
     "data": {
      "image/png": "[encoded data removed]",
      "text/plain": [
       "<Figure size 440x648 with 6 Axes>"
      ]
     },
     "metadata": {
      "needs_background": "light"
     },
     "output_type": "display_data"
    }
   ],
   "source": [
    "#Hence let's look further as there is a clear correlation between survival,age and Pclass\n",
    "graph1 = sns.FacetGrid(titanic, col='Survived', row='Pclass')\n",
    "graph1.map(plt.hist, 'Age', bins=20)\n",
    "graph1.add_legend();\n",
    "\n",
    "#Based on below chart, we can clearly see that the passengers in Pclass 3 had least survival rate.\n",
    "#Similarly, passengers in Pclass 1 had higher survival rate\n",
    "#Infants from Pclass 2 survived the most"
   ]
  },
  {
   "cell_type": "code",
   "execution_count": 46,
   "id": "93cbe3cc",
   "metadata": {},
   "outputs": [
    {
     "name": "stderr",
     "output_type": "stream",
     "text": [
      "C:\\Users\\krish\\anaconda3\\lib\\site-packages\\seaborn\\axisgrid.py:337: UserWarning: The `size` parameter has been renamed to `height`; please update your code.\n",
      "  warnings.warn(msg, UserWarning)\n",
      "C:\\Users\\krish\\anaconda3\\lib\\site-packages\\seaborn\\axisgrid.py:670: UserWarning: Using the pointplot function without specifying `order` is likely to produce an incorrect plot.\n",
      "  warnings.warn(warning)\n",
      "C:\\Users\\krish\\anaconda3\\lib\\site-packages\\seaborn\\axisgrid.py:675: UserWarning: Using the pointplot function without specifying `hue_order` is likely to produce an incorrect plot.\n",
      "  warnings.warn(warning)\n"
     ]
    },
    {
     "data": {
      "text/plain": [
       "<seaborn.axisgrid.FacetGrid at 0x1962a70cf40>"
      ]
     },
     "execution_count": 46,
     "metadata": {},
     "output_type": "execute_result"
    },
    {
     "data": {
      "image/png": "[encoded data removed]",
      "text/plain": [
       "<Figure size 228.9x475.2 with 3 Axes>"
      ]
     },
     "metadata": {
      "needs_background": "light"
     },
     "output_type": "display_data"
    }
   ],
   "source": [
    "#Let's look into the relation betwee\n",
    "graph2 = sns.FacetGrid(titanic, row='Embarked', size=2.2)\n",
    "graph2.map(sns.pointplot, 'Pclass', 'Survived', 'Sex')\n",
    "graph2.add_legend()\n",
    "\n",
    "#From the below graph, as we had concluded that female in general had a highest survival rate but in Embarked =C, \n",
    "#male survival rate was more."
   ]
  },
  {
   "cell_type": "markdown",
   "id": "1c75c0ce-ca24-410e-b2bc-4fec1a689cf8",
   "metadata": {
    "tags": []
   },
   "source": [
    "## Part II: More insights on the data "
   ]
  },
  {
   "cell_type": "markdown",
   "id": "c7517f7f",
   "metadata": {},
   "source": [
    "1. Women in Class 1 paid more/less on average than the average women (Sex, Fare, Class) "
   ]
  },
  {
   "cell_type": "code",
   "execution_count": 59,
   "id": "19b1bec0-e2df-4502-a193-5b441b6457d8",
   "metadata": {},
   "outputs": [
    {
     "name": "stdout",
     "output_type": "stream",
     "text": [
      "Women in passenger class 1 paid on average 2.39 times more than the average women.\n"
     ]
    }
   ],
   "source": [
    "# 1. Women in Class 1 paid more/less on average than the average women #Sex, Fare, Class \n",
    "\n",
    "avg_price_women_class_1 = train [\n",
    "        (train[\"Sex\"]==\"female\")&\n",
    "        (train[\"Pclass\"]==1)][\"Fare\"].mean()\n",
    "\n",
    "avg_price_paid_women = train[\n",
    "        (train[\"Sex\"]==\"female\")][\"Fare\"].mean()\n",
    "\n",
    "price_difference = avg_price_women_class_1/avg_price_paid_women\n",
    "\n",
    "if avg_price_women_class_1 > avg_price_paid_women:\n",
    "    print(f\"Women in passenger class 1 paid on average {round(price_difference, 2)} times more than the average women.\")"
   ]
  },
  {
   "cell_type": "markdown",
   "id": "c35484c9",
   "metadata": {},
   "source": [
    "2. Men who embarked in Southampton and had no parents or children onboard are more/less likely to surivive than the average passenger (Sex, Embarked, Parch, Survive)"
   ]
  },
  {
   "cell_type": "code",
   "execution_count": 60,
   "id": "f3002a33",
   "metadata": {},
   "outputs": [
    {
     "name": "stdout",
     "output_type": "stream",
     "text": [
      "Men who embarked in Southampton and had no parents or children onboard are less likely to survive than the average  passenger.\n"
     ]
    }
   ],
   "source": [
    "# 2. Men who embarked in Southampton and had no parents or children onboard are more/less \n",
    "  #likely to surivive than the average passenger #Sex, Embarked, Parch, Survive\n",
    "\n",
    "men_embarked_S_and_no_parch = train[\n",
    "    (train[\"Sex\"]==\"male\")&\n",
    "    (train[\"Embarked\"]==\"S\")&\n",
    "    (train[\"Parch\"]==0)&\n",
    "    (train[\"Survived\"]==1)\n",
    "][\"Sex\"].count()\n",
    "\n",
    "men_embarked_S_and_no_parch_out_of_total = men_embarked_S_and_no_parch / (train[\"Pclass\"].count())\n",
    "\n",
    "total_survivors = train [(train[\"Survived\"]==1)][\"Pclass\"].count() / (train[\"Pclass\"].count())\n",
    "\n",
    "if men_embarked_S_and_no_parch_out_of_total > total_survivors:\n",
    "    print(f\"Men who embarked in Southampton and had no parents or children onboard are more likely to survive than the average passenger.\")\n",
    "else: \n",
    "    print(f\"Men who embarked in Southampton and had no parents or children onboard are less likely to survive than the average  passenger.\")"
   ]
  },
  {
   "cell_type": "markdown",
   "id": "c2edd21d",
   "metadata": {},
   "source": [
    "3. Out of passengers 30 or older, did men pay on average more/less than women for their ticket.  (Sex, Age, Fare)"
   ]
  },
  {
   "cell_type": "code",
   "execution_count": 61,
   "id": "9b80022b",
   "metadata": {},
   "outputs": [
    {
     "name": "stdout",
     "output_type": "stream",
     "text": [
      "Men with age above 30 paid less on average (11.44 GBP) than women (20.12 GBP) with the same age when compared to their own sex.\n"
     ]
    }
   ],
   "source": [
    "# 3. Out of passengers 30 or older, did men pay on average more/less than women for their ticket.  #Sex, Age, Fare\n",
    "\n",
    "male_above_age_paid_for_tickets = train[\n",
    "    (train[\"Sex\"]==\"male\")&\n",
    "    (train[\"Age\"] > 30) \n",
    "][\"Fare\"].sum()\n",
    "\n",
    "avg_male_above_age_paid_for_tickets = male_above_age_paid_for_tickets / total_of_male\n",
    "\n",
    "female_above_age_paid_for_tickets = train[\n",
    "    (train[\"Sex\"]==\"female\")&\n",
    "    (train[\"Age\"] > 30) \n",
    "][\"Fare\"].sum()\n",
    "\n",
    "avg_female_above_age_paid_for_tickets = female_above_age_paid_for_tickets / total_of_female\n",
    "\n",
    "if avg_male_above_age_paid_for_tickets > avg_female_above_age_paid_for_tickets:\n",
    "    print(f\"Men with age above 30 paid more on average ({avg_male_above_age_paid_for_tickets:.2f} GBP) than women ({avg_female_above_age_paid_for_tickets:.2f} GBP) with the same age when compared to their own sex.\")\n",
    "    \n",
    "else: \n",
    "    print(f\"Men with age above 30 paid less on average ({avg_male_above_age_paid_for_tickets:.2f} GBP) than women ({avg_female_above_age_paid_for_tickets:.2f} GBP) with the same age when compared to their own sex.\")"
   ]
  }
 ],
 "metadata": {
  "kernelspec": {
   "display_name": "Python 3",
   "language": "python",
   "name": "python3"
  },
  "language_info": {
   "codemirror_mode": {
    "name": "ipython",
    "version": 3
   },
   "file_extension": ".py",
   "mimetype": "text/x-python",
   "name": "python",
   "nbconvert_exporter": "python",
   "pygments_lexer": "ipython3",
   "version": "3.8.8"
  }
 },
 "nbformat": 4,
 "nbformat_minor": 5
}
